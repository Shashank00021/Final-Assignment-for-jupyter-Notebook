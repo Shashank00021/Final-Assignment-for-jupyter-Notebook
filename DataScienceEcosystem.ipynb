{
 "cells": [
  {
   "cell_type": "markdown",
   "id": "27effb33-b6f2-4889-8754-f6537e2a2b8d",
   "metadata": {},
   "source": [
    "# Data Science Tools and Ecosystem"
   ]
  },
  {
   "cell_type": "markdown",
   "id": "b9830263-7333-49cf-a921-1bcc6f3019d5",
   "metadata": {},
   "source": [
    "# In this notebook, Data Science Tools and Ecosystem are summarized."
   ]
  },
  {
   "cell_type": "markdown",
   "id": "b5557b8e-7d4f-4a7f-a929-6119174bb9ea",
   "metadata": {
    "jp-MarkdownHeadingCollapsed": true
   },
   "source": [
    "# Some of the popular languages that Data Scientists use are:\n",
    "\n",
    "1. Python  \n",
    "2. R  \n",
    "3. SQL  \n",
    "4. Julia  \n",
    "5. Scala"
   ]
  },
  {
   "cell_type": "markdown",
   "id": "efc2247e-7434-4def-84cb-c41a92049481",
   "metadata": {},
   "source": [
    "# Some of the commonly used libraries used by Data Scientists include:\n",
    "\n",
    "1. NumPy  \n",
    "2. Pandas  \n",
    "3. Matplotlib  \n",
    "4. Scikit-learn  \n",
    "5. TensorFlow"
   ]
  },
  {
   "cell_type": "markdown",
   "id": "3a84fc6e-13a1-41d1-8e48-8b3decd0c1a2",
   "metadata": {},
   "source": [
    "| data Science Tools | \n",
    "|:--------:|\n",
    "|  MongoDB   |  \n",
    "|  Apache SparkSQL   |  \n",
    "|  Tensorflow   | "
   ]
  },
  {
   "cell_type": "markdown",
   "id": "26e92ee8-8d6f-488e-86fe-4a829a7221ed",
   "metadata": {},
   "source": [
    "## Below are a few examples of evaluating arithmetic expressions in Python."
   ]
  },
  {
   "cell_type": "code",
   "execution_count": 3,
   "id": "1e7896b7-4867-4835-9753-c7c67e073f7b",
   "metadata": {},
   "outputs": [
    {
     "data": {
      "text/plain": [
       "17"
      ]
     },
     "execution_count": 3,
     "metadata": {},
     "output_type": "execute_result"
    }
   ],
   "source": [
    "# This a simple arithmetic expression to mutiply then add integers\n",
    "\n",
    "(3*4)+5"
   ]
  },
  {
   "cell_type": "code",
   "execution_count": 4,
   "id": "66f3d213-a384-4373-bb7b-4e6be51cb960",
   "metadata": {},
   "outputs": [
    {
     "data": {
      "text/plain": [
       "3.3333333333333335"
      ]
     },
     "execution_count": 4,
     "metadata": {},
     "output_type": "execute_result"
    }
   ],
   "source": [
    "# This will convert 200 minutes to hours by diving by 60.\n",
    "\n",
    "200 / 60"
   ]
  },
  {
   "cell_type": "markdown",
   "id": "451647f6-a967-4650-ba41-670d94c919e2",
   "metadata": {},
   "source": [
    "# Objectives\n",
    "\n",
    "- list popular data science languages\n",
    "- list popular data science libraries\n",
    "- list popular data science tools"
   ]
  },
  {
   "cell_type": "markdown",
   "id": "d7e41e30-89fa-42f8-a937-1b8ac89361a7",
   "metadata": {},
   "source": [
    "## Author\n",
    "\n",
    "Kumar Shashank"
   ]
  },
  {
   "cell_type": "code",
   "execution_count": null,
   "id": "e7fdb117-641f-4ad6-a7b9-43b416273004",
   "metadata": {},
   "outputs": [],
   "source": []
  }
 ],
 "metadata": {
  "kernelspec": {
   "display_name": "Python 3 (ipykernel)",
   "language": "python",
   "name": "python3"
  },
  "language_info": {
   "codemirror_mode": {
    "name": "ipython",
    "version": 3
   },
   "file_extension": ".py",
   "mimetype": "text/x-python",
   "name": "python",
   "nbconvert_exporter": "python",
   "pygments_lexer": "ipython3",
   "version": "3.12.7"
  }
 },
 "nbformat": 4,
 "nbformat_minor": 5
}
